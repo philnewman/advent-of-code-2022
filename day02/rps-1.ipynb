{
 "cells": [
  {
   "cell_type": "code",
   "execution_count": 73,
   "id": "c511b9a6-094a-4d8a-bd99-038af7cf5e1b",
   "metadata": {},
   "outputs": [],
   "source": [
    "def scoring(result, choice):\n",
    "    global total_points\n",
    "    if result == \"win\":\n",
    "        total_points += 6\n",
    "    elif result == \"tie\":\n",
    "        total_points += 3\n",
    "    if choice == \"X\":\n",
    "        total_points += 1\n",
    "    elif choice == \"Y\":\n",
    "        total_points += 2\n",
    "    elif choice == \"Z\":\n",
    "        total_points += 3"
   ]
  },
  {
   "cell_type": "code",
   "execution_count": 64,
   "id": "970ad240-6caa-4fb4-9bf4-758cecee1477",
   "metadata": {},
   "outputs": [],
   "source": [
    "def rock(me):\n",
    "    if me == \"X\":\n",
    "        scoring(\"tie\", me) \n",
    "    elif me == \"Y\":\n",
    "        scoring(\"win\", me)\n",
    "    elif me == \"Z\":\n",
    "        scoring(\"lose\", me) "
   ]
  },
  {
   "cell_type": "code",
   "execution_count": 65,
   "id": "b098989d-3d8c-43d3-be0d-91d5c149b9a4",
   "metadata": {},
   "outputs": [],
   "source": [
    "def paper(me):\n",
    "    if me == \"X\":\n",
    "        scoring(\"lose\", me)\n",
    "    elif me == \"Y\":\n",
    "        scoring(\"tie\", me)\n",
    "    elif me == \"Z\":\n",
    "        scoring(\"win\", me)"
   ]
  },
  {
   "cell_type": "code",
   "execution_count": 66,
   "id": "5b5e0f55-c499-40e9-b44c-04f501d05c5c",
   "metadata": {},
   "outputs": [],
   "source": [
    "def scissors(me):\n",
    "    if me == \"X\":\n",
    "        scoring(\"win\", me)\n",
    "    elif me == \"Y\":\n",
    "        scoring(\"lose\", me)\n",
    "    elif me == \"Z\":\n",
    "        scoring(\"tie\", me) "
   ]
  },
  {
   "cell_type": "code",
   "execution_count": 76,
   "id": "8004d0b0-301d-415a-8993-61d8d0b9a317",
   "metadata": {},
   "outputs": [
    {
     "name": "stdout",
     "output_type": "stream",
     "text": [
      "Total points:  8392\n"
     ]
    }
   ],
   "source": [
    "total_points = 0 \n",
    "with open('input.txt') as f:\n",
    "    plays=f.readlines()\n",
    "    data=[tuple(play.strip().split()) for play in plays]\n",
    "    for elf, me in data:\n",
    "        if elf == \"A\": #rock\n",
    "            rock(me)\n",
    "        elif elf == \"B\": #paper\n",
    "            paper(me)\n",
    "        elif elf == \"C\": #scissors\n",
    "            scissors(me)   \n",
    "    print(\"Total points: \",total_points)"
   ]
  }
 ],
 "metadata": {
  "kernelspec": {
   "display_name": "anaconda-2022.05-py39",
   "language": "python",
   "name": "conda-env-anaconda-2022.05-py39-py"
  },
  "language_info": {
   "codemirror_mode": {
    "name": "ipython",
    "version": 3
   },
   "file_extension": ".py",
   "mimetype": "text/x-python",
   "name": "python",
   "nbconvert_exporter": "python",
   "pygments_lexer": "ipython3",
   "version": "3.9.12"
  }
 },
 "nbformat": 4,
 "nbformat_minor": 5
}
